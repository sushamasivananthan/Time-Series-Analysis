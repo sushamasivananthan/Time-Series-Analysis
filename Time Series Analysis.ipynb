{
 "cells": [
  {
   "cell_type": "code",
   "execution_count": 78,
   "metadata": {},
   "outputs": [],
   "source": [
    "import numpy as np\n",
    "import pandas as pd\n",
    "import plotly.express as px\n",
    "from copy import copy\n",
    "from scipy import stats\n",
    "import matplotlib.pyplot as plt\n",
    "import numpy as np\n",
    "import plotly.figure_factory as ff\n",
    "from sklearn.linear_model import LinearRegression\n",
    "from sklearn.svm import SVR\n",
    "from sklearn.model_selection import train_test_split\n",
    "from sklearn.metrics import r2_score\n",
    "from tensorflow import keras\n",
    "import plotly.graph_objects as go\n",
    "from pandas.plotting import autocorrelation_plot\n",
    "from pandas.plotting import lag_plot"
   ]
  },
  {
   "cell_type": "code",
   "execution_count": 79,
   "metadata": {},
   "outputs": [],
   "source": [
    "df=pd.read_csv(r'C:\\Users\\santh\\Downloads\\Datasets\\StackOverflow.csv')"
   ]
  },
  {
   "cell_type": "code",
   "execution_count": 80,
   "metadata": {},
   "outputs": [
    {
     "data": {
      "text/html": [
       "<div>\n",
       "<style scoped>\n",
       "    .dataframe tbody tr th:only-of-type {\n",
       "        vertical-align: middle;\n",
       "    }\n",
       "\n",
       "    .dataframe tbody tr th {\n",
       "        vertical-align: top;\n",
       "    }\n",
       "\n",
       "    .dataframe thead th {\n",
       "        text-align: right;\n",
       "    }\n",
       "</style>\n",
       "<table border=\"1\" class=\"dataframe\">\n",
       "  <thead>\n",
       "    <tr style=\"text-align: right;\">\n",
       "      <th></th>\n",
       "      <th>month</th>\n",
       "      <th>nltk</th>\n",
       "      <th>spacy</th>\n",
       "      <th>stanford-nlp</th>\n",
       "      <th>python</th>\n",
       "      <th>r</th>\n",
       "      <th>numpy</th>\n",
       "      <th>scipy</th>\n",
       "      <th>matlab</th>\n",
       "      <th>machine-learning</th>\n",
       "      <th>...</th>\n",
       "      <th>Plato</th>\n",
       "      <th>Sympy</th>\n",
       "      <th>Flair</th>\n",
       "      <th>stanford-nlp.1</th>\n",
       "      <th>pyqt</th>\n",
       "      <th>Nolearn</th>\n",
       "      <th>Lasagne</th>\n",
       "      <th>OCR</th>\n",
       "      <th>Apache-spark-mlib</th>\n",
       "      <th>azure-virtual-machine</th>\n",
       "    </tr>\n",
       "  </thead>\n",
       "  <tbody>\n",
       "    <tr>\n",
       "      <th>0</th>\n",
       "      <td>09-Jan</td>\n",
       "      <td>0</td>\n",
       "      <td>0</td>\n",
       "      <td>0</td>\n",
       "      <td>631</td>\n",
       "      <td>8</td>\n",
       "      <td>6</td>\n",
       "      <td>2</td>\n",
       "      <td>19</td>\n",
       "      <td>8</td>\n",
       "      <td>...</td>\n",
       "      <td>0</td>\n",
       "      <td>1</td>\n",
       "      <td>0</td>\n",
       "      <td>0</td>\n",
       "      <td>5</td>\n",
       "      <td>0</td>\n",
       "      <td>0</td>\n",
       "      <td>5</td>\n",
       "      <td>0</td>\n",
       "      <td>0</td>\n",
       "    </tr>\n",
       "    <tr>\n",
       "      <th>1</th>\n",
       "      <td>09-Feb</td>\n",
       "      <td>1</td>\n",
       "      <td>0</td>\n",
       "      <td>0</td>\n",
       "      <td>633</td>\n",
       "      <td>9</td>\n",
       "      <td>7</td>\n",
       "      <td>3</td>\n",
       "      <td>27</td>\n",
       "      <td>4</td>\n",
       "      <td>...</td>\n",
       "      <td>0</td>\n",
       "      <td>0</td>\n",
       "      <td>0</td>\n",
       "      <td>0</td>\n",
       "      <td>5</td>\n",
       "      <td>0</td>\n",
       "      <td>0</td>\n",
       "      <td>11</td>\n",
       "      <td>0</td>\n",
       "      <td>0</td>\n",
       "    </tr>\n",
       "    <tr>\n",
       "      <th>2</th>\n",
       "      <td>09-Mar</td>\n",
       "      <td>0</td>\n",
       "      <td>0</td>\n",
       "      <td>0</td>\n",
       "      <td>766</td>\n",
       "      <td>4</td>\n",
       "      <td>4</td>\n",
       "      <td>2</td>\n",
       "      <td>24</td>\n",
       "      <td>3</td>\n",
       "      <td>...</td>\n",
       "      <td>0</td>\n",
       "      <td>0</td>\n",
       "      <td>0</td>\n",
       "      <td>0</td>\n",
       "      <td>7</td>\n",
       "      <td>0</td>\n",
       "      <td>0</td>\n",
       "      <td>2</td>\n",
       "      <td>0</td>\n",
       "      <td>0</td>\n",
       "    </tr>\n",
       "    <tr>\n",
       "      <th>3</th>\n",
       "      <td>09-Apr</td>\n",
       "      <td>0</td>\n",
       "      <td>0</td>\n",
       "      <td>0</td>\n",
       "      <td>768</td>\n",
       "      <td>12</td>\n",
       "      <td>6</td>\n",
       "      <td>3</td>\n",
       "      <td>32</td>\n",
       "      <td>10</td>\n",
       "      <td>...</td>\n",
       "      <td>0</td>\n",
       "      <td>0</td>\n",
       "      <td>0</td>\n",
       "      <td>0</td>\n",
       "      <td>11</td>\n",
       "      <td>0</td>\n",
       "      <td>0</td>\n",
       "      <td>5</td>\n",
       "      <td>0</td>\n",
       "      <td>0</td>\n",
       "    </tr>\n",
       "    <tr>\n",
       "      <th>4</th>\n",
       "      <td>09-May</td>\n",
       "      <td>1</td>\n",
       "      <td>0</td>\n",
       "      <td>0</td>\n",
       "      <td>1003</td>\n",
       "      <td>2</td>\n",
       "      <td>7</td>\n",
       "      <td>2</td>\n",
       "      <td>42</td>\n",
       "      <td>7</td>\n",
       "      <td>...</td>\n",
       "      <td>0</td>\n",
       "      <td>0</td>\n",
       "      <td>0</td>\n",
       "      <td>0</td>\n",
       "      <td>10</td>\n",
       "      <td>0</td>\n",
       "      <td>0</td>\n",
       "      <td>3</td>\n",
       "      <td>0</td>\n",
       "      <td>0</td>\n",
       "    </tr>\n",
       "  </tbody>\n",
       "</table>\n",
       "<p>5 rows × 82 columns</p>\n",
       "</div>"
      ],
      "text/plain": [
       "    month  nltk  spacy  stanford-nlp  python   r  numpy  scipy  matlab  \\\n",
       "0  09-Jan     0      0             0     631   8      6      2      19   \n",
       "1  09-Feb     1      0             0     633   9      7      3      27   \n",
       "2  09-Mar     0      0             0     766   4      4      2      24   \n",
       "3  09-Apr     0      0             0     768  12      6      3      32   \n",
       "4  09-May     1      0             0    1003   2      7      2      42   \n",
       "\n",
       "   machine-learning  ...  Plato  Sympy  Flair  stanford-nlp.1  pyqt  Nolearn  \\\n",
       "0                 8  ...      0      1      0               0     5        0   \n",
       "1                 4  ...      0      0      0               0     5        0   \n",
       "2                 3  ...      0      0      0               0     7        0   \n",
       "3                10  ...      0      0      0               0    11        0   \n",
       "4                 7  ...      0      0      0               0    10        0   \n",
       "\n",
       "   Lasagne  OCR  Apache-spark-mlib  azure-virtual-machine  \n",
       "0        0    5                  0                      0  \n",
       "1        0   11                  0                      0  \n",
       "2        0    2                  0                      0  \n",
       "3        0    5                  0                      0  \n",
       "4        0    3                  0                      0  \n",
       "\n",
       "[5 rows x 82 columns]"
      ]
     },
     "execution_count": 80,
     "metadata": {},
     "output_type": "execute_result"
    }
   ],
   "source": [
    "df.head(5)"
   ]
  },
  {
   "cell_type": "code",
   "execution_count": 81,
   "metadata": {},
   "outputs": [
    {
     "data": {
      "text/plain": [
       "(132, 82)"
      ]
     },
     "execution_count": 81,
     "metadata": {},
     "output_type": "execute_result"
    }
   ],
   "source": [
    "df.shape"
   ]
  },
  {
   "cell_type": "code",
   "execution_count": 82,
   "metadata": {},
   "outputs": [
    {
     "data": {
      "text/html": [
       "<div>\n",
       "<style scoped>\n",
       "    .dataframe tbody tr th:only-of-type {\n",
       "        vertical-align: middle;\n",
       "    }\n",
       "\n",
       "    .dataframe tbody tr th {\n",
       "        vertical-align: top;\n",
       "    }\n",
       "\n",
       "    .dataframe thead th {\n",
       "        text-align: right;\n",
       "    }\n",
       "</style>\n",
       "<table border=\"1\" class=\"dataframe\">\n",
       "  <thead>\n",
       "    <tr style=\"text-align: right;\">\n",
       "      <th></th>\n",
       "      <th>nltk</th>\n",
       "      <th>spacy</th>\n",
       "      <th>stanford-nlp</th>\n",
       "      <th>python</th>\n",
       "      <th>r</th>\n",
       "      <th>numpy</th>\n",
       "      <th>scipy</th>\n",
       "      <th>matlab</th>\n",
       "      <th>machine-learning</th>\n",
       "      <th>pandas</th>\n",
       "      <th>...</th>\n",
       "      <th>Plato</th>\n",
       "      <th>Sympy</th>\n",
       "      <th>Flair</th>\n",
       "      <th>stanford-nlp.1</th>\n",
       "      <th>pyqt</th>\n",
       "      <th>Nolearn</th>\n",
       "      <th>Lasagne</th>\n",
       "      <th>OCR</th>\n",
       "      <th>Apache-spark-mlib</th>\n",
       "      <th>azure-virtual-machine</th>\n",
       "    </tr>\n",
       "  </thead>\n",
       "  <tbody>\n",
       "    <tr>\n",
       "      <th>count</th>\n",
       "      <td>132.000000</td>\n",
       "      <td>132.000000</td>\n",
       "      <td>132.000000</td>\n",
       "      <td>132.000000</td>\n",
       "      <td>132.000000</td>\n",
       "      <td>132.000000</td>\n",
       "      <td>132.000000</td>\n",
       "      <td>132.000000</td>\n",
       "      <td>132.000000</td>\n",
       "      <td>132.000000</td>\n",
       "      <td>...</td>\n",
       "      <td>132.000000</td>\n",
       "      <td>132.000000</td>\n",
       "      <td>132.000000</td>\n",
       "      <td>132.000000</td>\n",
       "      <td>132.000000</td>\n",
       "      <td>132.000000</td>\n",
       "      <td>132.000000</td>\n",
       "      <td>132.000000</td>\n",
       "      <td>132.000000</td>\n",
       "      <td>132.000000</td>\n",
       "    </tr>\n",
       "    <tr>\n",
       "      <th>mean</th>\n",
       "      <td>42.704545</td>\n",
       "      <td>11.848485</td>\n",
       "      <td>25.537879</td>\n",
       "      <td>9856.704545</td>\n",
       "      <td>2411.856061</td>\n",
       "      <td>514.204545</td>\n",
       "      <td>112.454545</td>\n",
       "      <td>651.681818</td>\n",
       "      <td>264.401515</td>\n",
       "      <td>980.295455</td>\n",
       "      <td>...</td>\n",
       "      <td>0.128788</td>\n",
       "      <td>21.643939</td>\n",
       "      <td>0.022727</td>\n",
       "      <td>22.522727</td>\n",
       "      <td>92.386364</td>\n",
       "      <td>0.325758</td>\n",
       "      <td>1.507576</td>\n",
       "      <td>31.931818</td>\n",
       "      <td>15.560606</td>\n",
       "      <td>12.984848</td>\n",
       "    </tr>\n",
       "    <tr>\n",
       "      <th>std</th>\n",
       "      <td>29.024533</td>\n",
       "      <td>21.066773</td>\n",
       "      <td>22.821045</td>\n",
       "      <td>6221.071304</td>\n",
       "      <td>1714.759241</td>\n",
       "      <td>392.882978</td>\n",
       "      <td>69.680773</td>\n",
       "      <td>395.949633</td>\n",
       "      <td>249.655453</td>\n",
       "      <td>1148.018331</td>\n",
       "      <td>...</td>\n",
       "      <td>0.378936</td>\n",
       "      <td>18.749507</td>\n",
       "      <td>0.194030</td>\n",
       "      <td>19.393265</td>\n",
       "      <td>47.025030</td>\n",
       "      <td>1.037438</td>\n",
       "      <td>3.185119</td>\n",
       "      <td>16.307725</td>\n",
       "      <td>19.942765</td>\n",
       "      <td>12.420732</td>\n",
       "    </tr>\n",
       "    <tr>\n",
       "      <th>min</th>\n",
       "      <td>0.000000</td>\n",
       "      <td>0.000000</td>\n",
       "      <td>0.000000</td>\n",
       "      <td>631.000000</td>\n",
       "      <td>2.000000</td>\n",
       "      <td>4.000000</td>\n",
       "      <td>2.000000</td>\n",
       "      <td>19.000000</td>\n",
       "      <td>2.000000</td>\n",
       "      <td>0.000000</td>\n",
       "      <td>...</td>\n",
       "      <td>0.000000</td>\n",
       "      <td>0.000000</td>\n",
       "      <td>0.000000</td>\n",
       "      <td>0.000000</td>\n",
       "      <td>5.000000</td>\n",
       "      <td>0.000000</td>\n",
       "      <td>0.000000</td>\n",
       "      <td>2.000000</td>\n",
       "      <td>0.000000</td>\n",
       "      <td>0.000000</td>\n",
       "    </tr>\n",
       "    <tr>\n",
       "      <th>25%</th>\n",
       "      <td>16.750000</td>\n",
       "      <td>0.000000</td>\n",
       "      <td>5.750000</td>\n",
       "      <td>3744.250000</td>\n",
       "      <td>608.750000</td>\n",
       "      <td>119.000000</td>\n",
       "      <td>39.750000</td>\n",
       "      <td>363.500000</td>\n",
       "      <td>54.000000</td>\n",
       "      <td>1.750000</td>\n",
       "      <td>...</td>\n",
       "      <td>0.000000</td>\n",
       "      <td>2.000000</td>\n",
       "      <td>0.000000</td>\n",
       "      <td>5.750000</td>\n",
       "      <td>58.500000</td>\n",
       "      <td>0.000000</td>\n",
       "      <td>0.000000</td>\n",
       "      <td>21.750000</td>\n",
       "      <td>0.000000</td>\n",
       "      <td>0.000000</td>\n",
       "    </tr>\n",
       "    <tr>\n",
       "      <th>50%</th>\n",
       "      <td>44.500000</td>\n",
       "      <td>0.000000</td>\n",
       "      <td>17.500000</td>\n",
       "      <td>9651.500000</td>\n",
       "      <td>2613.500000</td>\n",
       "      <td>486.000000</td>\n",
       "      <td>130.500000</td>\n",
       "      <td>581.000000</td>\n",
       "      <td>154.500000</td>\n",
       "      <td>483.000000</td>\n",
       "      <td>...</td>\n",
       "      <td>0.000000</td>\n",
       "      <td>22.000000</td>\n",
       "      <td>0.000000</td>\n",
       "      <td>17.000000</td>\n",
       "      <td>98.000000</td>\n",
       "      <td>0.000000</td>\n",
       "      <td>0.000000</td>\n",
       "      <td>31.000000</td>\n",
       "      <td>3.000000</td>\n",
       "      <td>11.000000</td>\n",
       "    </tr>\n",
       "    <tr>\n",
       "      <th>75%</th>\n",
       "      <td>66.500000</td>\n",
       "      <td>15.000000</td>\n",
       "      <td>46.000000</td>\n",
       "      <td>15590.750000</td>\n",
       "      <td>4000.500000</td>\n",
       "      <td>901.500000</td>\n",
       "      <td>171.250000</td>\n",
       "      <td>997.750000</td>\n",
       "      <td>495.250000</td>\n",
       "      <td>1860.750000</td>\n",
       "      <td>...</td>\n",
       "      <td>0.000000</td>\n",
       "      <td>38.000000</td>\n",
       "      <td>0.000000</td>\n",
       "      <td>38.000000</td>\n",
       "      <td>124.000000</td>\n",
       "      <td>0.000000</td>\n",
       "      <td>1.250000</td>\n",
       "      <td>44.000000</td>\n",
       "      <td>28.250000</td>\n",
       "      <td>21.250000</td>\n",
       "    </tr>\n",
       "    <tr>\n",
       "      <th>max</th>\n",
       "      <td>106.000000</td>\n",
       "      <td>79.000000</td>\n",
       "      <td>79.000000</td>\n",
       "      <td>23602.000000</td>\n",
       "      <td>5138.000000</td>\n",
       "      <td>1310.000000</td>\n",
       "      <td>229.000000</td>\n",
       "      <td>1535.000000</td>\n",
       "      <td>983.000000</td>\n",
       "      <td>4098.000000</td>\n",
       "      <td>...</td>\n",
       "      <td>2.000000</td>\n",
       "      <td>72.000000</td>\n",
       "      <td>2.000000</td>\n",
       "      <td>77.000000</td>\n",
       "      <td>196.000000</td>\n",
       "      <td>6.000000</td>\n",
       "      <td>14.000000</td>\n",
       "      <td>73.000000</td>\n",
       "      <td>75.000000</td>\n",
       "      <td>48.000000</td>\n",
       "    </tr>\n",
       "  </tbody>\n",
       "</table>\n",
       "<p>8 rows × 81 columns</p>\n",
       "</div>"
      ],
      "text/plain": [
       "             nltk       spacy  stanford-nlp        python            r  \\\n",
       "count  132.000000  132.000000    132.000000    132.000000   132.000000   \n",
       "mean    42.704545   11.848485     25.537879   9856.704545  2411.856061   \n",
       "std     29.024533   21.066773     22.821045   6221.071304  1714.759241   \n",
       "min      0.000000    0.000000      0.000000    631.000000     2.000000   \n",
       "25%     16.750000    0.000000      5.750000   3744.250000   608.750000   \n",
       "50%     44.500000    0.000000     17.500000   9651.500000  2613.500000   \n",
       "75%     66.500000   15.000000     46.000000  15590.750000  4000.500000   \n",
       "max    106.000000   79.000000     79.000000  23602.000000  5138.000000   \n",
       "\n",
       "             numpy       scipy       matlab  machine-learning       pandas  \\\n",
       "count   132.000000  132.000000   132.000000        132.000000   132.000000   \n",
       "mean    514.204545  112.454545   651.681818        264.401515   980.295455   \n",
       "std     392.882978   69.680773   395.949633        249.655453  1148.018331   \n",
       "min       4.000000    2.000000    19.000000          2.000000     0.000000   \n",
       "25%     119.000000   39.750000   363.500000         54.000000     1.750000   \n",
       "50%     486.000000  130.500000   581.000000        154.500000   483.000000   \n",
       "75%     901.500000  171.250000   997.750000        495.250000  1860.750000   \n",
       "max    1310.000000  229.000000  1535.000000        983.000000  4098.000000   \n",
       "\n",
       "       ...       Plato       Sympy       Flair  stanford-nlp.1        pyqt  \\\n",
       "count  ...  132.000000  132.000000  132.000000      132.000000  132.000000   \n",
       "mean   ...    0.128788   21.643939    0.022727       22.522727   92.386364   \n",
       "std    ...    0.378936   18.749507    0.194030       19.393265   47.025030   \n",
       "min    ...    0.000000    0.000000    0.000000        0.000000    5.000000   \n",
       "25%    ...    0.000000    2.000000    0.000000        5.750000   58.500000   \n",
       "50%    ...    0.000000   22.000000    0.000000       17.000000   98.000000   \n",
       "75%    ...    0.000000   38.000000    0.000000       38.000000  124.000000   \n",
       "max    ...    2.000000   72.000000    2.000000       77.000000  196.000000   \n",
       "\n",
       "          Nolearn     Lasagne         OCR  Apache-spark-mlib  \\\n",
       "count  132.000000  132.000000  132.000000         132.000000   \n",
       "mean     0.325758    1.507576   31.931818          15.560606   \n",
       "std      1.037438    3.185119   16.307725          19.942765   \n",
       "min      0.000000    0.000000    2.000000           0.000000   \n",
       "25%      0.000000    0.000000   21.750000           0.000000   \n",
       "50%      0.000000    0.000000   31.000000           3.000000   \n",
       "75%      0.000000    1.250000   44.000000          28.250000   \n",
       "max      6.000000   14.000000   73.000000          75.000000   \n",
       "\n",
       "       azure-virtual-machine  \n",
       "count             132.000000  \n",
       "mean               12.984848  \n",
       "std                12.420732  \n",
       "min                 0.000000  \n",
       "25%                 0.000000  \n",
       "50%                11.000000  \n",
       "75%                21.250000  \n",
       "max                48.000000  \n",
       "\n",
       "[8 rows x 81 columns]"
      ]
     },
     "execution_count": 82,
     "metadata": {},
     "output_type": "execute_result"
    }
   ],
   "source": [
    "df.describe()"
   ]
  },
  {
   "cell_type": "code",
   "execution_count": 83,
   "metadata": {},
   "outputs": [
    {
     "data": {
      "text/plain": [
       "True"
      ]
     },
     "execution_count": 83,
     "metadata": {},
     "output_type": "execute_result"
    }
   ],
   "source": [
    "df.isnull().sum().any()"
   ]
  },
  {
   "cell_type": "code",
   "execution_count": 84,
   "metadata": {},
   "outputs": [
    {
     "data": {
      "text/plain": [
       "month                    0\n",
       "nltk                     0\n",
       "spacy                    0\n",
       "stanford-nlp             0\n",
       "python                   0\n",
       "                        ..\n",
       "Nolearn                  0\n",
       "Lasagne                  0\n",
       "OCR                      0\n",
       "Apache-spark-mlib        0\n",
       "azure-virtual-machine    0\n",
       "Length: 82, dtype: int64"
      ]
     },
     "execution_count": 84,
     "metadata": {},
     "output_type": "execute_result"
    }
   ],
   "source": [
    "df.isnull().sum()"
   ]
  },
  {
   "cell_type": "code",
   "execution_count": 85,
   "metadata": {},
   "outputs": [
    {
     "data": {
      "text/plain": [
       "<bound method Series.mode of 0      0.0\n",
       "1      0.0\n",
       "2      0.0\n",
       "3      0.0\n",
       "4      0.0\n",
       "      ... \n",
       "127    NaN\n",
       "128    NaN\n",
       "129    NaN\n",
       "130    NaN\n",
       "131    NaN\n",
       "Name: Tableau, Length: 132, dtype: float64>"
      ]
     },
     "execution_count": 85,
     "metadata": {},
     "output_type": "execute_result"
    }
   ],
   "source": [
    "df.Tableau.mode"
   ]
  },
  {
   "cell_type": "code",
   "execution_count": 86,
   "metadata": {},
   "outputs": [],
   "source": [
    "df[\"Tableau\"].fillna(value=df[\"Tableau\"].mean(),inplace = True)"
   ]
  },
  {
   "cell_type": "code",
   "execution_count": 87,
   "metadata": {},
   "outputs": [
    {
     "name": "stdout",
     "output_type": "stream",
     "text": [
      "0      09\n",
      "1      09\n",
      "2      09\n",
      "3      09\n",
      "4      09\n",
      "       ..\n",
      "127    19\n",
      "128    19\n",
      "129    19\n",
      "130    19\n",
      "131    19\n",
      "Name: year, Length: 132, dtype: object 0      Jan\n",
      "1      Feb\n",
      "2      Mar\n",
      "3      Apr\n",
      "4      May\n",
      "      ... \n",
      "127    Aug\n",
      "128    Sep\n",
      "129    Oct\n",
      "130    Nov\n",
      "131    Dec\n",
      "Name: months, Length: 132, dtype: object\n"
     ]
    }
   ],
   "source": [
    "df[['year','months']] = df.month.str.split(\"-\",expand=True)\n",
    "print(df['year'], df['months'])"
   ]
  },
  {
   "cell_type": "code",
   "execution_count": 88,
   "metadata": {},
   "outputs": [
    {
     "data": {
      "text/html": [
       "<div>\n",
       "<style scoped>\n",
       "    .dataframe tbody tr th:only-of-type {\n",
       "        vertical-align: middle;\n",
       "    }\n",
       "\n",
       "    .dataframe tbody tr th {\n",
       "        vertical-align: top;\n",
       "    }\n",
       "\n",
       "    .dataframe thead th {\n",
       "        text-align: right;\n",
       "    }\n",
       "</style>\n",
       "<table border=\"1\" class=\"dataframe\">\n",
       "  <thead>\n",
       "    <tr style=\"text-align: right;\">\n",
       "      <th></th>\n",
       "      <th>month</th>\n",
       "      <th>nltk</th>\n",
       "      <th>spacy</th>\n",
       "      <th>stanford-nlp</th>\n",
       "      <th>python</th>\n",
       "      <th>r</th>\n",
       "      <th>numpy</th>\n",
       "      <th>scipy</th>\n",
       "      <th>matlab</th>\n",
       "      <th>machine-learning</th>\n",
       "      <th>...</th>\n",
       "      <th>Flair</th>\n",
       "      <th>stanford-nlp.1</th>\n",
       "      <th>pyqt</th>\n",
       "      <th>Nolearn</th>\n",
       "      <th>Lasagne</th>\n",
       "      <th>OCR</th>\n",
       "      <th>Apache-spark-mlib</th>\n",
       "      <th>azure-virtual-machine</th>\n",
       "      <th>year</th>\n",
       "      <th>months</th>\n",
       "    </tr>\n",
       "  </thead>\n",
       "  <tbody>\n",
       "    <tr>\n",
       "      <th>0</th>\n",
       "      <td>09-Jan</td>\n",
       "      <td>0</td>\n",
       "      <td>0</td>\n",
       "      <td>0</td>\n",
       "      <td>631</td>\n",
       "      <td>8</td>\n",
       "      <td>6</td>\n",
       "      <td>2</td>\n",
       "      <td>19</td>\n",
       "      <td>8</td>\n",
       "      <td>...</td>\n",
       "      <td>0</td>\n",
       "      <td>0</td>\n",
       "      <td>5</td>\n",
       "      <td>0</td>\n",
       "      <td>0</td>\n",
       "      <td>5</td>\n",
       "      <td>0</td>\n",
       "      <td>0</td>\n",
       "      <td>09</td>\n",
       "      <td>Jan</td>\n",
       "    </tr>\n",
       "    <tr>\n",
       "      <th>1</th>\n",
       "      <td>09-Feb</td>\n",
       "      <td>1</td>\n",
       "      <td>0</td>\n",
       "      <td>0</td>\n",
       "      <td>633</td>\n",
       "      <td>9</td>\n",
       "      <td>7</td>\n",
       "      <td>3</td>\n",
       "      <td>27</td>\n",
       "      <td>4</td>\n",
       "      <td>...</td>\n",
       "      <td>0</td>\n",
       "      <td>0</td>\n",
       "      <td>5</td>\n",
       "      <td>0</td>\n",
       "      <td>0</td>\n",
       "      <td>11</td>\n",
       "      <td>0</td>\n",
       "      <td>0</td>\n",
       "      <td>09</td>\n",
       "      <td>Feb</td>\n",
       "    </tr>\n",
       "    <tr>\n",
       "      <th>2</th>\n",
       "      <td>09-Mar</td>\n",
       "      <td>0</td>\n",
       "      <td>0</td>\n",
       "      <td>0</td>\n",
       "      <td>766</td>\n",
       "      <td>4</td>\n",
       "      <td>4</td>\n",
       "      <td>2</td>\n",
       "      <td>24</td>\n",
       "      <td>3</td>\n",
       "      <td>...</td>\n",
       "      <td>0</td>\n",
       "      <td>0</td>\n",
       "      <td>7</td>\n",
       "      <td>0</td>\n",
       "      <td>0</td>\n",
       "      <td>2</td>\n",
       "      <td>0</td>\n",
       "      <td>0</td>\n",
       "      <td>09</td>\n",
       "      <td>Mar</td>\n",
       "    </tr>\n",
       "    <tr>\n",
       "      <th>3</th>\n",
       "      <td>09-Apr</td>\n",
       "      <td>0</td>\n",
       "      <td>0</td>\n",
       "      <td>0</td>\n",
       "      <td>768</td>\n",
       "      <td>12</td>\n",
       "      <td>6</td>\n",
       "      <td>3</td>\n",
       "      <td>32</td>\n",
       "      <td>10</td>\n",
       "      <td>...</td>\n",
       "      <td>0</td>\n",
       "      <td>0</td>\n",
       "      <td>11</td>\n",
       "      <td>0</td>\n",
       "      <td>0</td>\n",
       "      <td>5</td>\n",
       "      <td>0</td>\n",
       "      <td>0</td>\n",
       "      <td>09</td>\n",
       "      <td>Apr</td>\n",
       "    </tr>\n",
       "    <tr>\n",
       "      <th>4</th>\n",
       "      <td>09-May</td>\n",
       "      <td>1</td>\n",
       "      <td>0</td>\n",
       "      <td>0</td>\n",
       "      <td>1003</td>\n",
       "      <td>2</td>\n",
       "      <td>7</td>\n",
       "      <td>2</td>\n",
       "      <td>42</td>\n",
       "      <td>7</td>\n",
       "      <td>...</td>\n",
       "      <td>0</td>\n",
       "      <td>0</td>\n",
       "      <td>10</td>\n",
       "      <td>0</td>\n",
       "      <td>0</td>\n",
       "      <td>3</td>\n",
       "      <td>0</td>\n",
       "      <td>0</td>\n",
       "      <td>09</td>\n",
       "      <td>May</td>\n",
       "    </tr>\n",
       "  </tbody>\n",
       "</table>\n",
       "<p>5 rows × 84 columns</p>\n",
       "</div>"
      ],
      "text/plain": [
       "    month  nltk  spacy  stanford-nlp  python   r  numpy  scipy  matlab  \\\n",
       "0  09-Jan     0      0             0     631   8      6      2      19   \n",
       "1  09-Feb     1      0             0     633   9      7      3      27   \n",
       "2  09-Mar     0      0             0     766   4      4      2      24   \n",
       "3  09-Apr     0      0             0     768  12      6      3      32   \n",
       "4  09-May     1      0             0    1003   2      7      2      42   \n",
       "\n",
       "   machine-learning  ...  Flair  stanford-nlp.1  pyqt  Nolearn  Lasagne  OCR  \\\n",
       "0                 8  ...      0               0     5        0        0    5   \n",
       "1                 4  ...      0               0     5        0        0   11   \n",
       "2                 3  ...      0               0     7        0        0    2   \n",
       "3                10  ...      0               0    11        0        0    5   \n",
       "4                 7  ...      0               0    10        0        0    3   \n",
       "\n",
       "   Apache-spark-mlib  azure-virtual-machine  year  months  \n",
       "0                  0                      0    09     Jan  \n",
       "1                  0                      0    09     Feb  \n",
       "2                  0                      0    09     Mar  \n",
       "3                  0                      0    09     Apr  \n",
       "4                  0                      0    09     May  \n",
       "\n",
       "[5 rows x 84 columns]"
      ]
     },
     "execution_count": 88,
     "metadata": {},
     "output_type": "execute_result"
    }
   ],
   "source": [
    "df.head(5)\n"
   ]
  },
  {
   "cell_type": "code",
   "execution_count": 89,
   "metadata": {},
   "outputs": [
    {
     "name": "stdout",
     "output_type": "stream",
     "text": [
      "   nltk  spacy  stanford-nlp  python   r  numpy  scipy  matlab  \\\n",
      "0     0      0             0     631   8      6      2      19   \n",
      "1     1      0             0     633   9      7      3      27   \n",
      "2     0      0             0     766   4      4      2      24   \n",
      "3     0      0             0     768  12      6      3      32   \n",
      "4     1      0             0    1003   2      7      2      42   \n",
      "\n",
      "   machine-learning  pandas  ...  Plato  Sympy  Flair  stanford-nlp.1  pyqt  \\\n",
      "0                 8       0  ...      0      1      0               0     5   \n",
      "1                 4       0  ...      0      0      0               0     5   \n",
      "2                 3       0  ...      0      0      0               0     7   \n",
      "3                10       0  ...      0      0      0               0    11   \n",
      "4                 7       0  ...      0      0      0               0    10   \n",
      "\n",
      "   Nolearn  Lasagne  OCR  Apache-spark-mlib  azure-virtual-machine  \n",
      "0        0        0    5                  0                      0  \n",
      "1        0        0   11                  0                      0  \n",
      "2        0        0    2                  0                      0  \n",
      "3        0        0    5                  0                      0  \n",
      "4        0        0    3                  0                      0  \n",
      "\n",
      "[5 rows x 81 columns]\n"
     ]
    }
   ],
   "source": [
    "included =  df.drop(columns=[\"month\",\"year\",\"months\"])\n",
    "print(included.head())"
   ]
  },
  {
   "cell_type": "code",
   "execution_count": 90,
   "metadata": {},
   "outputs": [
    {
     "name": "stdout",
     "output_type": "stream",
     "text": [
      "[1301085.0, 318365.0, 195126.0, 129399.0, 86022.0, 85972.0, 83524.0, 67875.0, 54758.0, 53019.0, 47664.0]\n"
     ]
    }
   ],
   "source": [
    "\n",
    "question_count  = included.sum(axis = 0)\n",
    "top_keys = question_count.sort_values(ascending = False)[0:11]\n",
    "print(list(top_keys))"
   ]
  },
  {
   "cell_type": "code",
   "execution_count": 91,
   "metadata": {},
   "outputs": [
    {
     "data": {
      "image/png": "[encoded data removed]",
      "text/plain": [
       "<Figure size 432x288 with 1 Axes>"
      ]
     },
     "metadata": {},
     "output_type": "display_data"
    }
   ],
   "source": [
    "\n",
    "plt.pie(top_keys, labels = top_keys.index, radius=2) \n",
    "plt.show()"
   ]
  },
  {
   "cell_type": "code",
   "execution_count": 92,
   "metadata": {},
   "outputs": [
    {
     "data": {
      "image/png": "[encoded data removed]",
      "text/plain": [
       "<Figure size 2160x720 with 1 Axes>"
      ]
     },
     "metadata": {
      "needs_background": "light"
     },
     "output_type": "display_data"
    }
   ],
   "source": [
    "\n",
    "\n",
    "fig = plt.figure(figsize = (30, 10))\n",
    "plt.plot(included.columns[0:25],question_count[0:25]) \n",
    "  \n",
    "plt.xlabel(\"Tech Keys\") \n",
    "plt.ylabel(\"Total Questions\") \n",
    "plt.title(\"Key Vs Questions\") \n",
    "plt.show() \n"
   ]
  },
  {
   "cell_type": "code",
   "execution_count": 93,
   "metadata": {},
   "outputs": [
    {
     "data": {
      "image/png": "[encoded data removed]",
      "text/plain": [
       "<Figure size 1440x360 with 1 Axes>"
      ]
     },
     "metadata": {
      "needs_background": "light"
     },
     "output_type": "display_data"
    }
   ],
   "source": [
    "\n",
    "fig = plt.figure(figsize = (20, 5))\n",
    "plt.bar(df[\"year\"],df[\"nltk\"]) \n",
    "  \n",
    "plt.xlabel(\"Year\") \n",
    "plt.ylabel(\"Total Questions\") \n",
    "plt.title(\"NLTk Questions / Year\") \n",
    "plt.show() "
   ]
  },
  {
   "cell_type": "code",
   "execution_count": 94,
   "metadata": {},
   "outputs": [
    {
     "data": {
      "image/png": "[encoded data removed]",
      "text/plain": [
       "<Figure size 720x360 with 1 Axes>"
      ]
     },
     "metadata": {
      "needs_background": "light"
     },
     "output_type": "display_data"
    }
   ],
   "source": [
    "\n",
    "barWidth = 0.25\n",
    "fig = plt.subplots(figsize =(10, 5)) \n",
    "\n",
    "plt.bar(df[\"year\"] , df[\"python\"], color ='r', width = barWidth, edgecolor ='grey', label ='Python')\n",
    "plt.bar(df[\"year\"], df[\"r\"], color = 'g', width = barWidth, edgecolor ='grey', label ='R') \n",
    "plt.bar(df[\"year\"], df[\"machine-learning\"], color ='y', width = barWidth, edgecolor ='grey', label ='ML') \n",
    "   \n",
    "# Adding Xticks  \n",
    "plt.xlabel('Year', fontweight ='bold') \n",
    "plt.ylabel('Tech-Keys', fontweight ='bold') \n",
    "\n",
    "plt.show() "
   ]
  },
  {
   "cell_type": "code",
   "execution_count": 95,
   "metadata": {},
   "outputs": [
    {
     "data": {
      "image/png": "[encoded data removed]",
      "text/plain": [
       "<Figure size 360x360 with 1 Axes>"
      ]
     },
     "metadata": {
      "needs_background": "light"
     },
     "output_type": "display_data"
    }
   ],
   "source": [
    "\n",
    "fig = plt.figure(figsize = (5, 5))\n",
    "plt.bar(df[\"months\"],df[\"spacy\"]) \n",
    "  \n",
    "plt.xlabel(\"Month\") \n",
    "plt.ylabel(\"Total Questions\") \n",
    "plt.title(\"Spacy Questions / Month\") \n",
    "plt.show() "
   ]
  },
  {
   "cell_type": "markdown",
   "metadata": {},
   "source": [
    "### Heatmap"
   ]
  },
  {
   "cell_type": "code",
   "execution_count": 96,
   "metadata": {},
   "outputs": [
    {
     "data": {
      "text/plain": [
       "<AxesSubplot:>"
      ]
     },
     "execution_count": 96,
     "metadata": {},
     "output_type": "execute_result"
    },
    {
     "data": {
      "image/png": "[encoded data removed]",
      "text/plain": [
       "<Figure size 864x864 with 2 Axes>"
      ]
     },
     "metadata": {
      "needs_background": "light"
     },
     "output_type": "display_data"
    }
   ],
   "source": [
    "import seaborn as sns\n",
    "correlation = df.corr()\n",
    "plt.figure(figsize = (12 , 12))\n",
    "sns.heatmap(correlation)"
   ]
  },
  {
   "cell_type": "markdown",
   "metadata": {},
   "source": [
    "#### Lambda Function"
   ]
  },
  {
   "cell_type": "code",
   "execution_count": 97,
   "metadata": {},
   "outputs": [
    {
     "name": "stdout",
     "output_type": "stream",
     "text": [
      "0      2009\n",
      "1      2009\n",
      "2      2009\n",
      "3      2009\n",
      "4      2009\n",
      "       ... \n",
      "127    2019\n",
      "128    2019\n",
      "129    2019\n",
      "130    2019\n",
      "131    2019\n",
      "Name: year, Length: 132, dtype: int64\n"
     ]
    }
   ],
   "source": [
    "\n",
    "df['year'] = df['year'].apply( lambda x : int('20'+x))\n",
    "print(df['year'])"
   ]
  },
  {
   "cell_type": "code",
   "execution_count": 98,
   "metadata": {},
   "outputs": [
    {
     "name": "stdout",
     "output_type": "stream",
     "text": [
      "      nltk  spacy  stanford-nlp  python      r  numpy  scipy  matlab  \\\n",
      "year                                                                   \n",
      "2009    16      0             7   12862    524    159     51     599   \n",
      "2010    62      0            25   27038   2266    522    201    1822   \n",
      "2011   172      0            53   42228   5838   1197    375    3934   \n",
      "2012   246      0           109   64302  12195   2358    841    7268   \n",
      "2013   419      0           177   96575  22284   4392   1343   11712   \n",
      "2014   558      0           266  116649  30945   5845   1574   14118   \n",
      "2015   706      3           643  137537  40757   7101   1797   13928   \n",
      "2016   876     69           551  159111  44549   9232   2035   11643   \n",
      "2017   965    267           570  200147  53476  12076   2295    9978   \n",
      "2018   864    480           745  206300  52261  11781   2223    5999   \n",
      "2019   753    745           225  238336  53270  13212   2109    5021   \n",
      "\n",
      "      machine-learning  pandas  ...  Plato  Sympy  Flair  stanford-nlp.1  \\\n",
      "year                            ...                                        \n",
      "2009                96       0  ...      0      4      0               7   \n",
      "2010               302       0  ...      0     15      0              25   \n",
      "2011               508      12  ...      0     22      0              53   \n",
      "2012              1044     749  ...      0     46      0             109   \n",
      "2013              1510    3028  ...      2    145      0             177   \n",
      "2014              1736    5674  ...      6    272      0             266   \n",
      "2015              2622    8993  ...      4    340      0             643   \n",
      "2016              4747   15256  ...      2    420      0             551   \n",
      "2017              7169   23686  ...      2    507      0             570   \n",
      "2018              7232   31489  ...      1    536      0             350   \n",
      "2019              7935   40512  ...      0    550      3             222   \n",
      "\n",
      "      pyqt  Nolearn  Lasagne  OCR  Apache-spark-mlib  azure-virtual-machine  \n",
      "year                                                                         \n",
      "2009   163        0        0   72                  0                      0  \n",
      "2010   352        0        0  126                  0                      1  \n",
      "2011   643        0        0  258                  0                      1  \n",
      "2012   881        0        0  350                  0                     40  \n",
      "2013  1070        0        0  347                  0                    133  \n",
      "2014  1346        0        0  370                 62                     91  \n",
      "2015  1254       20       41  438                355                    193  \n",
      "2016  1499       20       99  447                639                    279  \n",
      "2017  1254        2       41  615                532                    359  \n",
      "2018  1812        1        9  550                284                    364  \n",
      "2019  1921        0        9  642                182                    253  \n",
      "\n",
      "[11 rows x 81 columns]\n",
      "      nltk  spacy  stanford-nlp  python      r  numpy  scipy  matlab  \\\n",
      "year                                                                   \n",
      "2009    16      0             7   12862    524    159     51     599   \n",
      "2010    62      0            25   27038   2266    522    201    1822   \n",
      "2011   172      0            53   42228   5838   1197    375    3934   \n",
      "2012   246      0           109   64302  12195   2358    841    7268   \n",
      "2013   419      0           177   96575  22284   4392   1343   11712   \n",
      "2014   558      0           266  116649  30945   5845   1574   14118   \n",
      "2015   706      3           643  137537  40757   7101   1797   13928   \n",
      "2016   876     69           551  159111  44549   9232   2035   11643   \n",
      "2017   965    267           570  200147  53476  12076   2295    9978   \n",
      "2018   864    480           745  206300  52261  11781   2223    5999   \n",
      "2019   753    745           225  238336  53270  13212   2109    5021   \n",
      "\n",
      "      machine-learning  pandas  ...  Sympy  Flair  stanford-nlp.1  pyqt  \\\n",
      "year                            ...                                       \n",
      "2009                96       0  ...      4      0               7   163   \n",
      "2010               302       0  ...     15      0              25   352   \n",
      "2011               508      12  ...     22      0              53   643   \n",
      "2012              1044     749  ...     46      0             109   881   \n",
      "2013              1510    3028  ...    145      0             177  1070   \n",
      "2014              1736    5674  ...    272      0             266  1346   \n",
      "2015              2622    8993  ...    340      0             643  1254   \n",
      "2016              4747   15256  ...    420      0             551  1499   \n",
      "2017              7169   23686  ...    507      0             570  1254   \n",
      "2018              7232   31489  ...    536      0             350  1812   \n",
      "2019              7935   40512  ...    550      3             222  1921   \n",
      "\n",
      "      Nolearn  Lasagne  OCR  Apache-spark-mlib  azure-virtual-machine  year  \n",
      "year                                                                         \n",
      "2009        0        0   72                  0                      0  2009  \n",
      "2010        0        0  126                  0                      1  2010  \n",
      "2011        0        0  258                  0                      1  2011  \n",
      "2012        0        0  350                  0                     40  2012  \n",
      "2013        0        0  347                  0                    133  2013  \n",
      "2014        0        0  370                 62                     91  2014  \n",
      "2015       20       41  438                355                    193  2015  \n",
      "2016       20       99  447                639                    279  2016  \n",
      "2017        2       41  615                532                    359  2017  \n",
      "2018        1        9  550                284                    364  2018  \n",
      "2019        0        9  642                182                    253  2019  \n",
      "\n",
      "[11 rows x 82 columns]\n"
     ]
    }
   ],
   "source": [
    "tech = df.groupby(['year']).sum()\n",
    "print(tech)\n",
    "a = tech.index\n",
    "tech['year'] = a\n",
    "print(tech)"
   ]
  },
  {
   "cell_type": "code",
   "execution_count": 99,
   "metadata": {},
   "outputs": [
    {
     "name": "stdout",
     "output_type": "stream",
     "text": [
      "      year\n",
      "year      \n",
      "2009  2009\n",
      "2010  2010\n",
      "2011  2011\n",
      "2012  2012\n",
      "2013  2013\n",
      "2014  2014\n",
      "2015  2015\n",
      "2016  2016\n",
      "2017  2017\n",
      "2018  2018\n",
      "2019  2019\n"
     ]
    }
   ],
   "source": [
    "x = tech[['year']]\n",
    "print(x)\n"
   ]
  },
  {
   "cell_type": "code",
   "execution_count": 100,
   "metadata": {},
   "outputs": [
    {
     "name": "stdout",
     "output_type": "stream",
     "text": [
      "      nltk\n",
      "year      \n",
      "2009    16\n",
      "2010    62\n",
      "2011   172\n",
      "2012   246\n",
      "2013   419\n",
      "2014   558\n",
      "2015   706\n",
      "2016   876\n",
      "2017   965\n",
      "2018   864\n",
      "2019   753\n"
     ]
    }
   ],
   "source": [
    "y = tech[['nltk']]\n",
    "print(y)"
   ]
  },
  {
   "cell_type": "code",
   "execution_count": 101,
   "metadata": {},
   "outputs": [],
   "source": [
    "from sklearn.model_selection import train_test_split \n",
    "from sklearn.metrics import accuracy_score\n",
    "x_train, x_test, y_train, y_test = train_test_split(x , y , test_size=0.2)"
   ]
  },
  {
   "cell_type": "code",
   "execution_count": 102,
   "metadata": {},
   "outputs": [
    {
     "name": "stdout",
     "output_type": "stream",
     "text": [
      "[850.06 854.98  94.6 ]\n",
      "(3,)\n"
     ]
    },
    {
     "name": "stderr",
     "output_type": "stream",
     "text": [
      "C:\\Users\\santh\\Anaconda3\\lib\\site-packages\\ipykernel_launcher.py:4: DataConversionWarning:\n",
      "\n",
      "A column-vector y was passed when a 1d array was expected. Please change the shape of y to (n_samples,), for example using ravel().\n",
      "\n"
     ]
    }
   ],
   "source": [
    "from sklearn.ensemble import RandomForestRegressor\n",
    "from sklearn.svm import SVR\n",
    "rfr=RandomForestRegressor()\n",
    "rfr.fit(x_train,y_train)\n",
    "y_pred=rfr.predict(x_test)\n",
    "print(y_pred)\n",
    "print(y_pred.shape)"
   ]
  },
  {
   "cell_type": "code",
   "execution_count": 103,
   "metadata": {},
   "outputs": [
    {
     "data": {
      "text/plain": [
       "79.8933333333333"
      ]
     },
     "execution_count": 103,
     "metadata": {},
     "output_type": "execute_result"
    }
   ],
   "source": [
    "from sklearn.metrics import mean_absolute_error\n",
    "mean_absolute_error(y_test, y_pred)"
   ]
  },
  {
   "cell_type": "code",
   "execution_count": null,
   "metadata": {},
   "outputs": [],
   "source": []
  }
 ],
 "metadata": {
  "kernelspec": {
   "display_name": "Python 3",
   "language": "python",
   "name": "python3"
  },
  "language_info": {
   "codemirror_mode": {
    "name": "ipython",
    "version": 3
   },
   "file_extension": ".py",
   "mimetype": "text/x-python",
   "name": "python",
   "nbconvert_exporter": "python",
   "pygments_lexer": "ipython3",
   "version": "3.7.4"
  }
 },
 "nbformat": 4,
 "nbformat_minor": 4
}
